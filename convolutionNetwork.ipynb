{
 "cells": [
  {
   "cell_type": "code",
   "execution_count": 1,
   "metadata": {},
   "outputs": [],
   "source": [
    "import pandas as pd\n",
    "import chess\n",
    "import random\n",
    "import numpy as np\n",
    "import tensorflow as tf\n",
    "from sklearn.model_selection import train_test_split"
   ]
  },
  {
   "cell_type": "markdown",
   "metadata": {},
   "source": [
    "# Import data\n",
    "\n",
    "Sample the data as there is too large of a dataset"
   ]
  },
  {
   "cell_type": "code",
   "execution_count": null,
   "metadata": {},
   "outputs": [],
   "source": [
    "df = pd.read_csv(\"archive/chessData.csv\")\n",
    "\n",
    "n = 100000\n",
    "df = df.sample(n=n, replace=False, random_state=42).reset_index(drop=True)\n",
    "\n",
    "df.head()"
   ]
  },
  {
   "cell_type": "markdown",
   "metadata": {},
   "source": [
    "### Output test"
   ]
  },
  {
   "cell_type": "code",
   "execution_count": null,
   "metadata": {},
   "outputs": [],
   "source": [
    "board = chess.Board(df[\"FEN\"][0])\n",
    "board"
   ]
  },
  {
   "cell_type": "markdown",
   "metadata": {},
   "source": [
    "# Evalutation\n",
    "\n",
    "Convert the string evaluations into a number. There some issues with the conversion to string and as such they will be removed."
   ]
  },
  {
   "cell_type": "code",
   "execution_count": null,
   "metadata": {},
   "outputs": [],
   "source": [
    "def eval_convert(fen, x):\n",
    "    if(\"#\" in x):  x = 10000 if(\"+\" in x) else -1000 \n",
    "\n",
    "    try: \n",
    "        evaluation = int(x)/10\n",
    "        return evaluation if(\"w\" in fen) else -evaluation\n",
    "    \n",
    "    except: return None"
   ]
  },
  {
   "cell_type": "code",
   "execution_count": null,
   "metadata": {},
   "outputs": [],
   "source": [
    "df.shape"
   ]
  },
  {
   "cell_type": "markdown",
   "metadata": {},
   "source": [
    "convert and drop nans"
   ]
  },
  {
   "cell_type": "code",
   "execution_count": null,
   "metadata": {},
   "outputs": [],
   "source": [
    "df[\"Evaluation\"] = df.apply(lambda x: eval_convert(x[\"FEN\"], x[\"Evaluation\"]), axis=1)\n",
    "df = df.dropna()\n",
    "\n",
    "df.head()"
   ]
  },
  {
   "cell_type": "markdown",
   "metadata": {},
   "source": [
    "## Board state\n",
    "\n",
    "Get the state of the board by seeing if the both players can castle or not. Always put the players perspective first."
   ]
  },
  {
   "cell_type": "code",
   "execution_count": null,
   "metadata": {},
   "outputs": [],
   "source": [
    "def board_state(board):\n",
    "    if(type(board) == str): board = chess.Board(board)\n",
    "    turn = board.turn\n",
    "    \n",
    "    # White\n",
    "    wksc = 1 if(board.has_kingside_castling_rights(chess.WHITE)) else 0\n",
    "    wqsc = 1 if(board.has_queenside_castling_rights(chess.WHITE)) else 0\n",
    "    wch = 1 if(board.is_check()) else 0 \n",
    "    #wep = 1 if(board.has_legal_en_passant()) else 0\n",
    "\n",
    "    # Black\n",
    "    bksc = 1 if(board.has_kingside_castling_rights(chess.BLACK)) else 0\n",
    "    bqsc = 1 if(board.has_queenside_castling_rights(chess.BLACK)) else 0\n",
    "    #bep = 1 if(board.has_legal_en_passant()) else 0\n",
    "    bch = 1 if(board.was_into_check()) else 0\n",
    "    \n",
    "    white_state = (wksc,wqsc,wch) # ((wksc,wqsc,wep, wch)\n",
    "    \n",
    "    black_state = (bksc,bqsc,bch) #(bksc,bqsc,bep,bch))\n",
    "    \n",
    "    if(turn == chess.BLACK):\n",
    "        temp = white_state\n",
    "        white_state = black_state \n",
    "        black_state = temp\n",
    "       \n",
    "    \n",
    "    return list(white_state) + list(black_state)\n",
    "\n",
    "board_state(board)"
   ]
  },
  {
   "cell_type": "markdown",
   "metadata": {},
   "source": [
    "## Legal Moves\n",
    "\n",
    "Order the moves by checks and captures being first looked at."
   ]
  },
  {
   "cell_type": "code",
   "execution_count": null,
   "metadata": {},
   "outputs": [],
   "source": [
    "def possible_moves(board):\n",
    "    moves = [move for move in board.legal_moves]\n",
    "    \n",
    "    def board_order(move):\n",
    "        check = 1 if(board.gives_check(move)) else 0\n",
    "        capture = 1 if(board.is_capture(move)) else 0\n",
    "        return (check, capture)\n",
    "    \n",
    "    return sorted(moves, key=board_order, reverse=True)\n",
    "    \n",
    "ordered_moves = possible_moves(board)\n",
    "\n",
    "ordered_moves"
   ]
  },
  {
   "cell_type": "markdown",
   "metadata": {},
   "source": [
    "convert to a more interpretable format"
   ]
  },
  {
   "cell_type": "code",
   "execution_count": null,
   "metadata": {},
   "outputs": [],
   "source": [
    "ordered_moves = [board.san(move) for move in ordered_moves]\n",
    "\n",
    "ordered_moves"
   ]
  },
  {
   "cell_type": "markdown",
   "metadata": {},
   "source": [
    "## Vectorising board\n",
    "\n",
    "Always have the player to be on top."
   ]
  },
  {
   "cell_type": "code",
   "execution_count": null,
   "metadata": {},
   "outputs": [],
   "source": [
    "def convert_to_int(board):\n",
    "    if(type(board) == str): board = chess.Board(board)\n",
    "    \n",
    "    if(board.turn == chess.WHITE):\n",
    "        relative_white = chess.WHITE\n",
    "        relative_black = chess.BLACK\n",
    "        \n",
    "        increment = 1\n",
    "        start = 0\n",
    "        end = 8\n",
    "    \n",
    "    else:\n",
    "        relative_white = chess.BLACK\n",
    "        relative_black = chess.WHITE\n",
    "        \n",
    "        increment = -1\n",
    "        start = 7\n",
    "        end = -1\n",
    "        \n",
    "    l = [[0 for _ in range(14)] for _ in range(64)]\n",
    "    \n",
    "    for sq in chess.scan_reversed(board.occupied_co[relative_white]):  # Check if white\n",
    "        l[sq][board.piece_type_at(sq)-1] = 1 \n",
    "    for sq in chess.scan_reversed(board.occupied_co[relative_black]):  # Check if black\n",
    "        l[sq][-board.piece_type_at(sq)] = 1\n",
    "    \n",
    "    \n",
    "    vector = [[v for v in l[i*8: 8*(i+1)]] for i in range(start, end, increment)]\n",
    "    #vector = vector.flatten()\n",
    "    return vector\n",
    "\n",
    "convert_to_int(board)"
   ]
  },
  {
   "cell_type": "markdown",
   "metadata": {},
   "source": [
    "# Inputs\n",
    "\n",
    "All inputs should be in a list format"
   ]
  },
  {
   "cell_type": "code",
   "execution_count": null,
   "metadata": {},
   "outputs": [],
   "source": [
    "boards = list(df[\"FEN\"].apply(convert_to_int))\n",
    "evaluations = list(df[\"Evaluation\"])\n",
    "states = list(df[\"FEN\"].apply(board_state))\n",
    "\n",
    "X = boards\n",
    "y = evaluations\n",
    "\n",
    "#X = list(zip(boards, states))"
   ]
  },
  {
   "cell_type": "code",
   "execution_count": null,
   "metadata": {},
   "outputs": [],
   "source": [
    "X_train, X_test, y_train, y_test = train_test_split(X, y, test_size=0.2, random_state=42)\n",
    "#boards_train, states_train = list(zip(*X_train))\n",
    "#boards_test, states_test = list(zip(*X_test))\n",
    "\n",
    "#X_train = list(zip(*X_train))\n",
    "#X_test = list(zip(*X_test))\n",
    "\n",
    "print(\"Train size: \", len(X_train))\n",
    "print(\"Test size: \", len(X_test))"
   ]
  },
  {
   "cell_type": "code",
   "execution_count": null,
   "metadata": {},
   "outputs": [],
   "source": [
    "import keras\n",
    "from keras import layers\n",
    "\n",
    "def build_model(num_layers=3):\n",
    "    x = keras.Sequential()\n",
    "    x.add(keras.Input(shape=(8, 8, 14)))\n",
    "    x.add(layers.Conv2D(8, (14, 14), padding='same', activation='relu'))\n",
    "\n",
    "    for _ in range(num_layers):\n",
    "        x.add(layers.MaxPooling2D((2, 2)))\n",
    "        x.add(layers.Conv2D(64, (14, 14),padding='same', activation='relu'))\n",
    "        \n",
    "    x.add(layers.Flatten())\n",
    "    x.add(layers.Dense(64, activation='relu'))\n",
    "    x.add(layers.Dense(1))\n",
    "    \n",
    "    return x"
   ]
  },
  {
   "cell_type": "code",
   "execution_count": null,
   "metadata": {},
   "outputs": [],
   "source": [
    "model = build_model(1)\n",
    "\n",
    "model.summary()"
   ]
  },
  {
   "cell_type": "code",
   "execution_count": null,
   "metadata": {},
   "outputs": [],
   "source": [
    "model.compile(\n",
    "    optimizer=keras.optimizers.Adam(learning_rate=1e-3),\n",
    "    loss=keras.losses.MeanSquaredError(),\n",
    "    metrics=['accuracy'],\n",
    ")"
   ]
  },
  {
   "cell_type": "code",
   "execution_count": null,
   "metadata": {},
   "outputs": [],
   "source": [
    "model.fit(\n",
    "    x=X_train,\n",
    "    y=y_train,\n",
    "    batch_size=1,\n",
    "    epochs=1,\n",
    "    verbose=0,\n",
    ")"
   ]
  },
  {
   "cell_type": "code",
   "execution_count": null,
   "metadata": {},
   "outputs": [],
   "source": [
    "# Save the entire model as a `.keras` zip archive.\n",
    "model.save('my_model.keras')"
   ]
  }
 ],
 "metadata": {
  "kernelspec": {
   "display_name": "ml",
   "language": "python",
   "name": "python3"
  },
  "language_info": {
   "codemirror_mode": {
    "name": "ipython",
    "version": 3
   },
   "file_extension": ".py",
   "mimetype": "text/x-python",
   "name": "python",
   "nbconvert_exporter": "python",
   "pygments_lexer": "ipython3",
   "version": "3.12.2"
  }
 },
 "nbformat": 4,
 "nbformat_minor": 2
}
